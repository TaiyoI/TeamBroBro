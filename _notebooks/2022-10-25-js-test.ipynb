{
 "cells": [
  {
   "cell_type": "code",
   "execution_count": 4,
   "metadata": {
    "vscode": {
     "languageId": "javascript"
    }
   },
   "outputs": [
    {
     "ename": "SyntaxError",
     "evalue": "invalid syntax (3679736726.py, line 1)",
     "output_type": "error",
     "traceback": [
      "\u001b[1;36m  Input \u001b[1;32mIn [4]\u001b[1;36m\u001b[0m\n\u001b[1;33m    import \"./styles.css\";\u001b[0m\n\u001b[1;37m           ^\u001b[0m\n\u001b[1;31mSyntaxError\u001b[0m\u001b[1;31m:\u001b[0m invalid syntax\n"
     ]
    }
   ],
   "source": [
    "import \"./styles.css\";\n",
    "\n",
    "document.body.style.backgroundColor = '#333';\n",
    " \n",
    "/* chess board that is 8 by 8. There should be a total of 32 black squares and 32 white squares. */\n",
    "var chessBoard = document.createElement('div');\n",
    "chessBoard.style.width = '320px';\n",
    "chessBoard.style.height = '320px';\n",
    "chessBoard.style.backgroundColor = '#fff';\n",
    "chessBoard.style.margin = '0 auto';\n",
    "chessBoard.style.border = '1px solid #000';\n",
    "document.body.appendChild(chessBoard);\n",
    "var square = document.createElement('div');\n",
    "square.style.width = '40px';\n",
    "square.style.height = '40px';\n",
    "square.style.float = 'left';\n",
    "for (var i = 0; i < 8; i++) {\n",
    "  for (var j = 0; j < 8; j++) {\n",
    "    var squareClone = square.cloneNode(true);\n",
    "    if ((i + j) % 2 === 0) {\n",
    "      squareClone.style.backgroundColor = '#000';\n",
    "    }\n",
    "    chessBoard.appendChild(squareClone);\n",
    "  }\n",
    "}\n"
   ]
  }
 ],
 "metadata": {
  "kernelspec": {
   "display_name": "Python 3.10.6 64-bit",
   "language": "python",
   "name": "python3"
  },
  "language_info": {
   "codemirror_mode": {
    "name": "ipython",
    "version": 3
   },
   "file_extension": ".py",
   "mimetype": "text/x-python",
   "name": "python",
   "nbconvert_exporter": "python",
   "pygments_lexer": "ipython3",
   "version": "3.10.6"
  },
  "orig_nbformat": 4,
  "vscode": {
   "interpreter": {
    "hash": "82faa6d27c9a927522682e95cb30c684238aba2a31347a70411ee016fed8cfe5"
   }
  }
 },
 "nbformat": 4,
 "nbformat_minor": 2
}
