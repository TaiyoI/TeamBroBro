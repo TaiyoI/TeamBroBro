{
 "cells": [
  {
   "cell_type": "markdown",
   "metadata": {},
   "source": [
    "# Python API JOKES formatting.\n",
    "\n"
   ]
  },
  {
   "cell_type": "code",
   "execution_count": 11,
   "metadata": {},
   "outputs": [
    {
     "name": "stdout",
     "output_type": "stream",
     "text": [
      "If you give someone a program... you will frustrate them for a day; if you teach them how to program... you will frustrate them for a lifetime. \n",
      " boohoo count: 421122 \n",
      " haha count: 186709\n",
      "Q: Why did I divide sin by tan? A: Just cos. \n",
      " boohoo count: 5504 \n",
      " haha count: 30466\n",
      "UNIX is basically a simple operating system... but you have to be a genius to understand the simplicity. \n",
      " boohoo count: 1379 \n",
      " haha count: 1876\n",
      "Enter any 11-digit prime number to continue. \n",
      " boohoo count: 1345 \n",
      " haha count: 1635\n",
      "If at first you don't succeed; call it version 1.0. \n",
      " boohoo count: 1782 \n",
      " haha count: 2099\n",
      "Java programmers are some of the most materialistic people I know, very object-oriented \n",
      " boohoo count: 5129 \n",
      " haha count: 1342\n",
      "The oldest computer can be traced back to Adam and Eve. It was an apple but with extremely limited memory. Just 1 byte. And then everything crashed. \n",
      " boohoo count: 1824 \n",
      " haha count: 1147\n",
      "Q: Why did Wi-Fi and the computer get married? A: Because they had a connection \n",
      " boohoo count: 2439 \n",
      " haha count: 3078\n",
      "Bill Gates teaches a kindergarten class to count to ten. 1, 2, 3, 3.1, 95, 98, ME, 2000, XP, Vista, 7, 8, 10. \n",
      " boohoo count: 31295 \n",
      " haha count: 1341\n",
      "Q: What’s a aliens favorite computer key? A: the space bar! \n",
      " boohoo count: 2135 \n",
      " haha count: 1540\n",
      "There are 10 types of people in the world: those who understand binary, and those who don’t. \n",
      " boohoo count: 17141 \n",
      " haha count: 1773\n",
      "If it wasn't for C, we’d all be programming in BASI and OBOL. \n",
      " boohoo count: 1320 \n",
      " haha count: 1781\n",
      "Computers make very fast, very accurate mistakes. \n",
      " boohoo count: 1805 \n",
      " haha count: 1125\n",
      "Q: Why is it that programmers always confuse Halloween with Christmas? A: Because 31 OCT = 25 DEC. \n",
      " boohoo count: 1244 \n",
      " haha count: 1161\n",
      "Q: How many programmers does it take to change a light bulb? A: None. It’s a hardware problem. \n",
      " boohoo count: 1463 \n",
      " haha count: 1475\n",
      "The programmer got stuck in the shower because the instructions on the shampoo bottle said: Lather, Rinse, Repeat. \n",
      " boohoo count: 1218 \n",
      " haha count: 4274\n",
      "Q: What is the biggest lie in the entire universe? A: I have read and agree to the Terms and Conditions. \n",
      " boohoo count: 1122 \n",
      " haha count: 2058\n",
      "An SQL statement walks into a bar and sees two tables. It approaches, and asks may I join you? \n",
      " boohoo count: 4610 \n",
      " haha count: 1001885\n"
     ]
    }
   ],
   "source": [
    "import requests\n",
    "\n",
    "# Allows you to get data from API\n",
    "\n",
    "url = \"https://flask.nighthawkcodingsociety.com/api/jokes/\"\n",
    "\n",
    "# Defines URL\n",
    "\n",
    "response = requests.get(url)\n",
    "\n",
    "# Using the requests.get(url) I can pull the requests from the URL\n",
    "\n",
    "data = response.json()\n",
    "\n",
    "# Puts Jsonified data into a variable and formats it\n",
    "\n",
    "for entry in data:\n",
    "    print(f'{entry[\"joke\"]} \\n boohoo count: {entry[\"boohoo\"]} \\n haha count: {entry[\"haha\"]}')\n",
    "\n",
    "\n",
    "# For each joke, an \"entry\" has the joke in it\n",
    "# \\n puts it on a new line"
   ]
  }
 ],
 "metadata": {
  "kernelspec": {
   "display_name": "Python 3.8.9 64-bit",
   "language": "python",
   "name": "python3"
  },
  "language_info": {
   "codemirror_mode": {
    "name": "ipython",
    "version": 3
   },
   "file_extension": ".py",
   "mimetype": "text/x-python",
   "name": "python",
   "nbconvert_exporter": "python",
   "pygments_lexer": "ipython3",
   "version": "3.8.9"
  },
  "orig_nbformat": 4,
  "vscode": {
   "interpreter": {
    "hash": "31f2aee4e71d21fbe5cf8b01ff0e069b9275f58929596ceb00d14d90e3e16cd6"
   }
  }
 },
 "nbformat": 4,
 "nbformat_minor": 2
}
