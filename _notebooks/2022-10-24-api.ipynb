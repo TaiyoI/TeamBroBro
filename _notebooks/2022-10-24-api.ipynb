{
 "cells": [
  {
   "cell_type": "markdown",
   "metadata": {},
   "source": [
    "# Likes/Dislikes Demo\n",
    "\n",
    "- badges: true\n",
    "- comments: true\n",
    "- author: Team BroBro\n",
    "- categories: [fastpages, jupyter, api, demo]"
   ]
  },
  {
   "cell_type": "code",
   "execution_count": 1,
   "metadata": {
    "vscode": {
     "languageId": "javascript"
    }
   },
   "outputs": [
    {
     "ename": "SyntaxError",
     "evalue": "invalid syntax (206790796.py, line 1)",
     "output_type": "error",
     "traceback": [
      "\u001b[1;36m  Input \u001b[1;32mIn [1]\u001b[1;36m\u001b[0m\n\u001b[1;33m    var popMusic = document.createElement('div');\u001b[0m\n\u001b[1;37m        ^\u001b[0m\n\u001b[1;31mSyntaxError\u001b[0m\u001b[1;31m:\u001b[0m invalid syntax\n"
     ]
    }
   ],
   "source": [
    "    \n",
    "var popMusic = document.createElement('div');\n",
    "popMusic.innerHTML = 'Pop Music';\n",
    "document.body.appendChild(popMusic);\n",
    "\n",
    "var button1 = document.createElement('button');\n",
    "button1.innerHTML = 'Button 1';\n",
    "document.body.appendChild(button1);\n",
    "var button2 = document.createElement('button');\n",
    "button2.innerHTML = 'Button 2';\n",
    "document.body.appendChild(button2);\n",
    "\n",
    "button1.onclick = function() {\n",
    "  alert('Like');\n",
    "};\n",
    "button2.onclick = function() {\n",
    "  alert('Dislike');\n",
    "};\n",
    "\n",
    "button1.innerHTML = 'Like';\n",
    "button2.innerHTML = 'Dislike';\n",
    "\n",
    "var dataTable = document.createElement('table');\n",
    "var dataTableHeader = document.createElement('tr');\n",
    "var dataTableHeaderLikes = document.createElement('th');\n",
    "dataTableHeaderLikes.innerHTML = 'Likes';\n",
    "var dataTableHeaderDislikes = document.createElement('th');\n",
    "dataTableHeaderDislikes.innerHTML = 'Dislikes';\n",
    "dataTableHeader.appendChild(dataTableHeaderLikes);\n",
    "dataTableHeader.appendChild(dataTableHeaderDislikes);\n",
    "dataTable.appendChild(dataTableHeader);\n",
    "var dataTableRow = document.createElement('tr');\n",
    "var dataTableRowLikes = document.createElement('td');\n",
    "dataTableRowLikes.innerHTML = '0';\n",
    "var dataTableRowDislikes = document.createElement('td');\n",
    "dataTableRowDislikes.innerHTML = '0';\n",
    "dataTableRow.appendChild(dataTableRowLikes);\n",
    "dataTableRow.appendChild(dataTableRowDislikes);\n",
    "dataTable.appendChild(dataTableRow);\n",
    "document.body.appendChild(dataTable);\n",
    "\n",
    "button1.onclick = function() {\n",
    "  dataTableRowLikes.innerHTML = parseInt(dataTableRowLikes.innerHTML) + 1;\n",
    "};\n",
    "\n",
    "var resetButton = document.createElement('button');\n",
    "resetButton.innerHTML = 'Reset';\n",
    "document.body.appendChild(resetButton);\n",
    "resetButton.onclick = function() {\n",
    "  dataTableRowLikes.innerHTML = '0';\n",
    "  dataTableRowDislikes.innerHTML = '0';\n",
    "};\n",
    "\n",
    "button2.onclick = function() {\n",
    "  dataTableRowDislikes.innerHTML = parseInt(dataTableRowDislikes.innerHTML) + 1;\n",
    "};"
   ]
  }
 ],
 "metadata": {
  "kernelspec": {
   "display_name": "Python 3.10.6 64-bit",
   "language": "python",
   "name": "python3"
  },
  "language_info": {
   "codemirror_mode": {
    "name": "ipython",
    "version": 3
   },
   "file_extension": ".py",
   "mimetype": "text/x-python",
   "name": "python",
   "nbconvert_exporter": "python",
   "pygments_lexer": "ipython3",
   "version": "3.10.6"
  },
  "orig_nbformat": 4,
  "vscode": {
   "interpreter": {
    "hash": "82faa6d27c9a927522682e95cb30c684238aba2a31347a70411ee016fed8cfe5"
   }
  }
 },
 "nbformat": 4,
 "nbformat_minor": 2
}
