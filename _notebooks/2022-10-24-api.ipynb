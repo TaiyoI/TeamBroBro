{
 "cells": [
  {
   "cell_type": "markdown",
   "metadata": {},
   "source": [
    "# Likes/Dislikes Demo\n",
    "\n",
    "- badges: true\n",
    "- comments: true\n",
    "- author: Team BroBro\n",
    "- categories: [fastpages, jupyter, api, demo]"
   ]
  },
  {
   "cell_type": "code",
   "execution_count": null,
   "metadata": {
    "vscode": {
     "languageId": "html"
    }
   },
   "outputs": [],
   "source": [
    "<html>\n",
    "    <head>\n",
    "        <script>\n",
    "        document.addEventListener(\"DOMContentLoaded\", function() {\n",
    "\n",
    "          \n",
    "var popMusic = document.createElement('div');\n",
    "popMusic.innerHTML = 'Pop Music';\n",
    "document.body.appendChild(popMusic);\n",
    "\n",
    "var button1 = document.createElement('button');\n",
    "button1.innerHTML = 'Button 1';\n",
    "document.body.appendChild(button1);\n",
    "var button2 = document.createElement('button');\n",
    "button2.innerHTML = 'Button 2';\n",
    "document.body.appendChild(button2);\n",
    "\n",
    "button1.onclick = function() {\n",
    "  alert('Like');\n",
    "};\n",
    "button2.onclick = function() {\n",
    "  alert('Dislike');\n",
    "};\n",
    "\n",
    "button1.innerHTML = 'Like';\n",
    "button2.innerHTML = 'Dislike';\n",
    "\n",
    "var dataTable = document.createElement('table');\n",
    "var dataTableHeader = document.createElement('tr');\n",
    "var dataTableHeaderLikes = document.createElement('th');\n",
    "dataTableHeaderLikes.innerHTML = 'Likes';\n",
    "var dataTableHeaderDislikes = document.createElement('th');\n",
    "dataTableHeaderDislikes.innerHTML = 'Dislikes';\n",
    "dataTableHeader.appendChild(dataTableHeaderLikes);\n",
    "dataTableHeader.appendChild(dataTableHeaderDislikes);\n",
    "dataTable.appendChild(dataTableHeader);\n",
    "var dataTableRow = document.createElement('tr');\n",
    "var dataTableRowLikes = document.createElement('td');\n",
    "dataTableRowLikes.innerHTML = '0';\n",
    "var dataTableRowDislikes = document.createElement('td');\n",
    "dataTableRowDislikes.innerHTML = '0';\n",
    "dataTableRow.appendChild(dataTableRowLikes);\n",
    "dataTableRow.appendChild(dataTableRowDislikes);\n",
    "dataTable.appendChild(dataTableRow);\n",
    "document.body.appendChild(dataTable);\n",
    "\n",
    "button1.onclick = function() {\n",
    "  dataTableRowLikes.innerHTML = parseInt(dataTableRowLikes.innerHTML) + 1;\n",
    "};\n",
    "\n",
    "var resetButton = document.createElement('button');\n",
    "resetButton.innerHTML = 'Reset';\n",
    "document.body.appendChild(resetButton);\n",
    "resetButton.onclick = function() {\n",
    "  dataTableRowLikes.innerHTML = '0';\n",
    "  dataTableRowDislikes.innerHTML = '0';\n",
    "};\n",
    "\n",
    "button2.onclick = function() {\n",
    "  dataTableRowDislikes.innerHTML = parseInt(dataTableRowDislikes.innerHTML) + 1;\n",
    "};\n",
    "});\n",
    "        </script>\n",
    "    </head>\n",
    "    <body style=\"margin: 0;\">\n",
    "        <div style=\"background-color: black; position: fixed; bottom: 0; width: 100%; height: 20px; padding: 20px; opacity: .85; z-index: 1000;\">\n",
    "        </div>\n",
    "    </body>\n",
    "</html>"
   ]
  }
 ],
 "metadata": {
  "language_info": {
   "name": "python"
  },
  "orig_nbformat": 4
 },
 "nbformat": 4,
 "nbformat_minor": 2
}
